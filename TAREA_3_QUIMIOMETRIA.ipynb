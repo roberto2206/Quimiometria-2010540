{
  "nbformat": 4,
  "nbformat_minor": 0,
  "metadata": {
    "colab": {
      "provenance": [],
      "authorship_tag": "ABX9TyOW6uxM42BQQ6bZMyylMB4X",
      "include_colab_link": true
    },
    "kernelspec": {
      "name": "python3",
      "display_name": "Python 3"
    },
    "language_info": {
      "name": "python"
    }
  },
  "cells": [
    {
      "cell_type": "markdown",
      "metadata": {
        "id": "view-in-github",
        "colab_type": "text"
      },
      "source": [
        "<a href=\"https://colab.research.google.com/github/roberto2206/Quimiometria-2010540/blob/main/TAREA_3_QUIMIOMETRIA.ipynb\" target=\"_parent\"><img src=\"https://colab.research.google.com/assets/colab-badge.svg\" alt=\"Open In Colab\"/></a>"
      ]
    },
    {
      "cell_type": "code",
      "execution_count": null,
      "metadata": {
        "colab": {
          "base_uri": "https://localhost:8080/"
        },
        "id": "q4xy3C3Gj7Yh",
        "outputId": "4539f2d5-9d25-41fc-e8ce-ef7de859e66e"
      },
      "outputs": [
        {
          "output_type": "stream",
          "name": "stdout",
          "text": [
            "Indique la concentracion de H+: 0.5\n",
            "El pH de la solucion es de 0.30102999566398114\n"
          ]
        }
      ],
      "source": [
        "#problema 1\n",
        "c_H = float(input(\"Indique la concentracion de H+: \"))\n",
        "import math\n",
        "math.log(c_H, 10)\n",
        "pH = -math.log(c_H, 10)\n",
        "print(\"El pH de la solucion es de\", pH)\n"
      ]
    },
    {
      "cell_type": "code",
      "source": [
        "#problema 2\n",
        "cantidad_analito = float(input(\"Introduzca la cantidad de analito:\"))\n",
        "unidades = input(\"Introduzca las unidades (g o L):\").lower()\n",
        "if unidades == \"g\":\n",
        "  peso_AM = float(input(\"Ingrese el peso atomico o molecular del analito: \"))\n",
        "  moles = (cantidad_analito / peso_AM)\n",
        "  print(\"La cantidad de moles de analito es de \", moles,\"mol\")\n",
        "elif unidades == \"l\":\n",
        "  c_analito = float(input(\"Ingrese la concentracion del analito: \"))\n",
        "  moles = float(cantidad_analito * c_analito)\n",
        "  print(\"La cantidad de moles de analito es de \", moles,\"mol\")\n",
        "\n"
      ],
      "metadata": {
        "colab": {
          "base_uri": "https://localhost:8080/"
        },
        "id": "qcurzeRhkAas",
        "outputId": "0b3fcd55-ed3b-4360-8118-419a27819332"
      },
      "execution_count": null,
      "outputs": [
        {
          "output_type": "stream",
          "name": "stdout",
          "text": [
            "Introduzca la cantidad de analito:5\n",
            "Introduzca las unidades (g o L):g\n",
            "Ingrese el peso atomico o molecular del analito: 9\n",
            "La cantidad de moles de analito es de  0.5555555555555556 mol\n"
          ]
        }
      ]
    },
    {
      "cell_type": "code",
      "source": [
        "#problema 3\n",
        "volumen_sol = float(input(\"Indique el volumen de la solucion: \"))\n",
        "unidades_v = input(\"indique las unidades: \").lower()\n",
        "cantidad_soluto = float(input(\"Indique la cantidad de soluto en gramos: \"))\n",
        "\n",
        "if unidades_v == \"ml\":\n",
        "  peso_AMS = float(input(\"Ingrese el peso atomico o molecular del soluto: \"))\n",
        "  litros = (volumen_sol / 1000)\n",
        "  molaridad = ((cantidad_soluto / peso_AMS) * (1/litros))\n",
        "  print(\"La concentracion molar es de\", molaridad,\"M\")\n",
        "\n",
        "elif unidades_v == \"l\":\n",
        "  peso_AMS = float(input(\"Ingrese el peso atomico o molecular del soluto: \"))\n",
        "  molaridad = ((cantidad_soluto / peso_AMS) * (1/volumen_sol))\n",
        "  print(\"La concentracion molar es de\", molaridad,\"M\")\n",
        "\n"
      ],
      "metadata": {
        "colab": {
          "base_uri": "https://localhost:8080/"
        },
        "id": "9ZizBJlVyj97",
        "outputId": "64f97f82-975d-4df6-baf3-1ef1f93aed97"
      },
      "execution_count": null,
      "outputs": [
        {
          "output_type": "stream",
          "name": "stdout",
          "text": [
            "Indique el volumen de la solucion: 65\n",
            "indique las unidades: ml\n",
            "Indique la cantidad de soluto en gramos: 5\n",
            "Ingrese el peso atomico o molecular del soluto: 9\n",
            "La concentracion molar es de 8.547008547008547 M\n"
          ]
        }
      ]
    },
    {
      "cell_type": "code",
      "source": [
        "#problema 4\n",
        "masa_t = float(input(\"Indique cual es la masa teorica: \"))\n",
        "masa_e = float(input(\"indique cual fue la masa obtenida experimentalmente: \"))\n",
        "rendimiento = (masa_e/masa_t)*100\n",
        "print(\"El rendimiento de la reaccion es de\", rendimiento,'%')\n"
      ],
      "metadata": {
        "colab": {
          "base_uri": "https://localhost:8080/"
        },
        "id": "1GFalQ7J18wV",
        "outputId": "472c03f3-a84c-4537-a8b0-f3a1c83e0b91"
      },
      "execution_count": null,
      "outputs": [
        {
          "output_type": "stream",
          "name": "stdout",
          "text": [
            "Indique cual es la masa teorica: 5\n",
            "indique cual fue la masa obtenida experimentalmente: 4\n",
            "El rendimiento es de 80.0 %\n"
          ]
        }
      ]
    },
    {
      "cell_type": "markdown",
      "source": [],
      "metadata": {
        "id": "PwnAh0_dkBzL"
      }
    },
    {
      "cell_type": "code",
      "source": [
        "#problema 5\n",
        "c_AD = float(input(\"Indique la concentracion molar del acido debil: \"))\n",
        "c_BD = float(input(\"Indique la concentracion molar de la base debil: \"))\n",
        "pKa = float(input(\"Ingrese el valor de pKa tabulado para el acido debil: \"))\n",
        "\n",
        "import math\n",
        "pH = - pKa + math.log10(c_BD/c_AD)\n",
        "print(\"El pH del buffer sera de\", pH)\n"
      ],
      "metadata": {
        "colab": {
          "base_uri": "https://localhost:8080/"
        },
        "id": "JsZrNjZw6seP",
        "outputId": "1e45cd98-b829-4d6c-ea97-da905450af90"
      },
      "execution_count": null,
      "outputs": [
        {
          "output_type": "stream",
          "name": "stdout",
          "text": [
            "Indique la concentracion molar del acido debil: 0.05\n",
            "Indique la concentracion molar de la base debil: 0.04\n",
            "Ingrese el valor de pKa tabulado para el acido debil: -2.15\n",
            "El pH del buffer sera de 2.0530899869919437\n"
          ]
        }
      ]
    },
    {
      "cell_type": "code",
      "source": [
        "#problema 6\n",
        "kps = float(input(\"Introduzca el valor tabulado de Kps: \"))\n",
        "P_solubilidad = float(input(\"Introduzca el valor del producto de solubilidad: \"))\n",
        "\n",
        "if P_solubilidad <= kps:\n",
        "  print(\"El compuesto es soluble\")\n",
        "else:\n",
        "  print(\"El compuesto es insoluble\")\n",
        ""
      ],
      "metadata": {
        "id": "kCZXLWCq9EkT",
        "colab": {
          "base_uri": "https://localhost:8080/"
        },
        "outputId": "ddb46808-b507-4d03-e7bd-29197d5e5d27"
      },
      "execution_count": 92,
      "outputs": [
        {
          "output_type": "stream",
          "name": "stdout",
          "text": [
            "Introduzca el valor tabulado de Kps: 0.0005\n",
            "Introduzca el valor del producto de solubilidad: 0.003\n",
            "El compuesto es insoluble\n"
          ]
        }
      ]
    },
    {
      "cell_type": "code",
      "source": [
        "#problema 7\n",
        "def dividir(a,b):\n",
        "  print(\"el resultado de la division es: \", float(a/b))\n",
        "\n",
        "def multiplicar(a,b):\n",
        "  print(\"el resultado de la multiplicacion es: \", float(a*b))\n",
        "\n",
        "\n"
      ],
      "metadata": {
        "id": "UqdXn3wJ-TvJ"
      },
      "execution_count": 3,
      "outputs": []
    },
    {
      "cell_type": "code",
      "source": [
        "dividir(3,4)"
      ],
      "metadata": {
        "colab": {
          "base_uri": "https://localhost:8080/"
        },
        "id": "I-gop4c0eEvo",
        "outputId": "e0338a22-995d-4a1e-eab7-cf152c45ea6c"
      },
      "execution_count": 4,
      "outputs": [
        {
          "output_type": "stream",
          "name": "stdout",
          "text": [
            "el resultado de la division es:  0.75\n"
          ]
        }
      ]
    },
    {
      "cell_type": "code",
      "source": [
        "multiplicar(2,5)"
      ],
      "metadata": {
        "colab": {
          "base_uri": "https://localhost:8080/"
        },
        "id": "ABictU0VeJ-u",
        "outputId": "7a13415a-d9f8-406a-c7fb-9f2b6a04c5f0"
      },
      "execution_count": 5,
      "outputs": [
        {
          "output_type": "stream",
          "name": "stdout",
          "text": [
            "el resultado de la multiplicacion es:  10.0\n"
          ]
        }
      ]
    },
    {
      "cell_type": "code",
      "source": [
        "#problema 8.1\n",
        "def factorial(n):\n",
        "   if n == 0:\n",
        "     return 1\n",
        "   else:\n",
        "     return n * factorial(n-1)\n",
        "\n",
        "def seno_t(x,n):\n",
        "    seno = 0\n",
        "    for i in range(n):\n",
        "       signo = (-1) ** i\n",
        "       termino = (x ** (2 * i + 1)) / factorial(2 * i + 1)\n",
        "       seno += signo * termino\n",
        "    return seno\n",
        "\n",
        "def coseno_t(x,n):\n",
        "    coseno = 0\n",
        "    for i in range(n):\n",
        "       signo = (-1) ** i\n",
        "       termino = (x ** (2*i) / factorial(2 * i))\n",
        "       coseno += signo * termino\n",
        "    return coseno\n",
        "\n",
        "angulo = float(input(\"Indique el angulo en radianes: \"))\n",
        "\n",
        "terminos = int(input(\"Indique la cantidad de terminos: \"))\n",
        "\n",
        "seno_aprox = seno_t(angulo, terminos)\n",
        "coseno_aprox = coseno_t(angulo, terminos)\n",
        "\n",
        "print(f\"seno aproximado: {seno_aprox}\")\n",
        "print(f\"coseno aproximado: {coseno_aprox}\")\n"
      ],
      "metadata": {
        "id": "w6BnIFFc-V5Z",
        "colab": {
          "base_uri": "https://localhost:8080/"
        },
        "outputId": "b5b105c4-803f-4293-b4f6-140a18ee8518"
      },
      "execution_count": 84,
      "outputs": [
        {
          "output_type": "stream",
          "name": "stdout",
          "text": [
            "Indique el angulo en radianes: 3.14\n",
            "Indique la cantidad de terminos: 10\n",
            "seno aproximado: 0.001592652393160744\n",
            "coseno aproximado: -0.9999987352210833\n"
          ]
        }
      ]
    },
    {
      "cell_type": "code",
      "source": [
        "#problema 8.2\n",
        "import math\n",
        "angulo_r = float(input(\"Introdusca el angulo: \"))\n",
        "seno_r = math.sin(angulo_r)\n",
        "coseno_r = math.cos(angulo_r)\n",
        "\n",
        "\n",
        "\n",
        "print(\"El valor del seno real es de: \", seno_r)\n",
        "print(\"El valor del coseno real es de: \", coseno_r)"
      ],
      "metadata": {
        "id": "6aZPdz8m-aW6",
        "colab": {
          "base_uri": "https://localhost:8080/"
        },
        "outputId": "4f8dafce-a430-4815-b8b4-808be6ea3139"
      },
      "execution_count": 68,
      "outputs": [
        {
          "output_type": "stream",
          "name": "stdout",
          "text": [
            "Introdusca el angulo: 3.14\n",
            "El valor del seno real es de:  0.0015926529164868282\n",
            "El valor del coseno real es de:  -0.9999987317275395\n"
          ]
        }
      ]
    },
    {
      "cell_type": "code",
      "source": [
        "#problema 9\n",
        "b = float(input(\"Escriba un angulo: \"))\n",
        "b1 = math.radians(b)\n",
        "\n",
        "cos_b = float(math.cos(b1))\n",
        "sen_b = float(math.sin(b1))\n",
        "\n",
        "diferencia_cos_sen = abs(cos_b - sen_b)\n",
        "\n",
        "\n",
        "diferencia = 1e-15\n",
        "\n",
        "\n",
        "if diferencia_cos_sen < diferencia:\n",
        "  print(\"El seno y el coseno son aproximadamente iguales para un angulo de\", b)\n",
        "\n",
        "else:\n",
        "  print(\"El seno y el coseno son diferentes para un angulo de\", b)"
      ],
      "metadata": {
        "colab": {
          "base_uri": "https://localhost:8080/"
        },
        "id": "MxBnB8ukq-43",
        "outputId": "32d36e51-0847-47df-8d90-3e9dbba4e72a"
      },
      "execution_count": 90,
      "outputs": [
        {
          "output_type": "stream",
          "name": "stdout",
          "text": [
            "Escriba un angulo: 44.9999\n",
            "El seno y el coseno son diferentes para un angulo de 44.9999\n"
          ]
        }
      ]
    }
  ]
}